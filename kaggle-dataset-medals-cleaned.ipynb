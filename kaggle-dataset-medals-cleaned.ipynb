{
 "cells": [
  {
   "cell_type": "markdown",
   "id": "4c76d648",
   "metadata": {
    "papermill": {
     "duration": 0.011069,
     "end_time": "2021-12-19T16:13:43.550064",
     "exception": false,
     "start_time": "2021-12-19T16:13:43.538995",
     "status": "completed"
    },
    "tags": []
   },
   "source": [
    "Tidied up version of dataset provided by [@kukuroo3](https://www.kaggle.com/kukuroo3)\n",
    "\n",
    "Source: https://www.kaggle.com/kukuroo3/dataset-of-kaggle-dataset-include-medalvotecount"
   ]
  },
  {
   "cell_type": "markdown",
   "id": "ee17a00d",
   "metadata": {
    "papermill": {
     "duration": 0.009438,
     "end_time": "2021-12-19T16:13:43.569589",
     "exception": false,
     "start_time": "2021-12-19T16:13:43.560151",
     "status": "completed"
    },
    "tags": []
   },
   "source": [
    "**Contents**\n",
    "\n",
    "Metadata of 42,955 datasets on Kaggle from 2015-12 to 2021-11\n",
    "\n",
    "* **Medal:** color of received medal\n",
    "* **Created:** time of creation\n",
    "* **URL:** URL to dataset on kaggle.com\n",
    "* **Views:** total view count\n",
    "* **Votes:** total vote count\n",
    "* **Votes_Advanced:** total vote count excluding votes from 'Novice' rank\n",
    "* **Downloads:** total download count\n",
    "* **Kernels:** total kernel count\n",
    "* **Title:** title of dataset\n",
    "* **Description:** description of dataset\n",
    "* **Tags:** tags of dataset\n",
    "* **License:** licence under which dataset is published\n"
   ]
  },
  {
   "cell_type": "code",
   "execution_count": 1,
   "id": "79a308fc",
   "metadata": {
    "_cell_guid": "b1076dfc-b9ad-4769-8c92-a6c4dae69d19",
    "_uuid": "8f2839f25d086af736a60e9eeb907d3b93b6e0e5",
    "execution": {
     "iopub.execute_input": "2021-12-19T16:13:43.593915Z",
     "iopub.status.busy": "2021-12-19T16:13:43.592743Z",
     "iopub.status.idle": "2021-12-19T16:13:43.600975Z",
     "shell.execute_reply": "2021-12-19T16:13:43.601497Z",
     "shell.execute_reply.started": "2021-12-19T16:02:13.510431Z"
    },
    "papermill": {
     "duration": 0.022597,
     "end_time": "2021-12-19T16:13:43.601825",
     "exception": false,
     "start_time": "2021-12-19T16:13:43.579228",
     "status": "completed"
    },
    "tags": []
   },
   "outputs": [],
   "source": [
    "import pandas as pd\n",
    "import numpy as np"
   ]
  },
  {
   "cell_type": "code",
   "execution_count": 2,
   "id": "a9982d43",
   "metadata": {
    "execution": {
     "iopub.execute_input": "2021-12-19T16:13:43.624886Z",
     "iopub.status.busy": "2021-12-19T16:13:43.624212Z",
     "iopub.status.idle": "2021-12-19T16:13:44.645373Z",
     "shell.execute_reply": "2021-12-19T16:13:44.644756Z",
     "shell.execute_reply.started": "2021-12-19T16:02:13.522336Z"
    },
    "papermill": {
     "duration": 1.033861,
     "end_time": "2021-12-19T16:13:44.645531",
     "exception": false,
     "start_time": "2021-12-19T16:13:43.611670",
     "status": "completed"
    },
    "tags": []
   },
   "outputs": [],
   "source": [
    "medal = pd.read_csv('../input/dataset-of-kaggle-dataset-include-medalvotecount/medalvotecount.csv')"
   ]
  },
  {
   "cell_type": "code",
   "execution_count": 3,
   "id": "26f3f809",
   "metadata": {
    "execution": {
     "iopub.execute_input": "2021-12-19T16:13:44.678527Z",
     "iopub.status.busy": "2021-12-19T16:13:44.674911Z",
     "iopub.status.idle": "2021-12-19T16:13:44.694275Z",
     "shell.execute_reply": "2021-12-19T16:13:44.693607Z",
     "shell.execute_reply.started": "2021-12-19T16:02:20.58711Z"
    },
    "papermill": {
     "duration": 0.038269,
     "end_time": "2021-12-19T16:13:44.694421",
     "exception": false,
     "start_time": "2021-12-19T16:13:44.656152",
     "status": "completed"
    },
    "tags": []
   },
   "outputs": [],
   "source": [
    "medal.drop(columns='description', inplace=True)"
   ]
  },
  {
   "cell_type": "code",
   "execution_count": 4,
   "id": "0fd1f8b6",
   "metadata": {
    "execution": {
     "iopub.execute_input": "2021-12-19T16:13:44.721299Z",
     "iopub.status.busy": "2021-12-19T16:13:44.719628Z",
     "iopub.status.idle": "2021-12-19T16:13:44.727331Z",
     "shell.execute_reply": "2021-12-19T16:13:44.726767Z",
     "shell.execute_reply.started": "2021-12-19T07:06:48.838241Z"
    },
    "papermill": {
     "duration": 0.023,
     "end_time": "2021-12-19T16:13:44.727469",
     "exception": false,
     "start_time": "2021-12-19T16:13:44.704469",
     "status": "completed"
    },
    "tags": []
   },
   "outputs": [],
   "source": [
    "medal = medal.rename(columns={'DataSetMedals': 'Medal',\n",
    "                                'ct': 'Created',\n",
    "                                'dataUrl': 'URL',\n",
    "                                'totalviews': 'Views',\n",
    "                                'votecount': 'Votes',\n",
    "                                'medalvotecount': 'Votes_Advanced',\n",
    "                                'totaldownloads': 'Downloads',\n",
    "                                'totalkernel': 'Kernels',\n",
    "                                'title': 'Title',\n",
    "                                'key': 'Tags',\n",
    "                                'license': 'Licence'\n",
    "                                 })"
   ]
  },
  {
   "cell_type": "code",
   "execution_count": 5,
   "id": "894c99b7",
   "metadata": {
    "execution": {
     "iopub.execute_input": "2021-12-19T16:13:44.773235Z",
     "iopub.status.busy": "2021-12-19T16:13:44.770520Z",
     "iopub.status.idle": "2021-12-19T16:13:44.781012Z",
     "shell.execute_reply": "2021-12-19T16:13:44.780486Z",
     "shell.execute_reply.started": "2021-12-19T07:06:48.856369Z"
    },
    "papermill": {
     "duration": 0.043619,
     "end_time": "2021-12-19T16:13:44.781151",
     "exception": false,
     "start_time": "2021-12-19T16:13:44.737532",
     "status": "completed"
    },
    "tags": []
   },
   "outputs": [],
   "source": [
    "medal['Created'] = pd.to_datetime(medal['Created'])"
   ]
  },
  {
   "cell_type": "code",
   "execution_count": 6,
   "id": "80739f45",
   "metadata": {
    "execution": {
     "iopub.execute_input": "2021-12-19T16:13:44.816165Z",
     "iopub.status.busy": "2021-12-19T16:13:44.810125Z",
     "iopub.status.idle": "2021-12-19T16:13:44.833452Z",
     "shell.execute_reply": "2021-12-19T16:13:44.832781Z",
     "shell.execute_reply.started": "2021-12-19T07:06:48.888618Z"
    },
    "papermill": {
     "duration": 0.04234,
     "end_time": "2021-12-19T16:13:44.833605",
     "exception": false,
     "start_time": "2021-12-19T16:13:44.791265",
     "status": "completed"
    },
    "tags": []
   },
   "outputs": [],
   "source": [
    "medal['Medal'] = medal['Medal'].str.title()"
   ]
  },
  {
   "cell_type": "code",
   "execution_count": 7,
   "id": "4902aba8",
   "metadata": {
    "execution": {
     "iopub.execute_input": "2021-12-19T16:13:44.873458Z",
     "iopub.status.busy": "2021-12-19T16:13:44.872731Z",
     "iopub.status.idle": "2021-12-19T16:13:44.877041Z",
     "shell.execute_reply": "2021-12-19T16:13:44.876427Z",
     "shell.execute_reply.started": "2021-12-19T07:06:48.922772Z"
    },
    "papermill": {
     "duration": 0.033687,
     "end_time": "2021-12-19T16:13:44.877202",
     "exception": false,
     "start_time": "2021-12-19T16:13:44.843515",
     "status": "completed"
    },
    "tags": []
   },
   "outputs": [
    {
     "data": {
      "text/plain": [
       "None      34148\n",
       "Bronze     7203\n",
       "Silver     1135\n",
       "Gold        469\n",
       "Name: Medal, dtype: int64"
      ]
     },
     "execution_count": 7,
     "metadata": {},
     "output_type": "execute_result"
    }
   ],
   "source": [
    "medal['Medal'].value_counts()"
   ]
  },
  {
   "cell_type": "code",
   "execution_count": 8,
   "id": "0f312306",
   "metadata": {
    "execution": {
     "iopub.execute_input": "2021-12-19T16:13:44.924917Z",
     "iopub.status.busy": "2021-12-19T16:13:44.914171Z",
     "iopub.status.idle": "2021-12-19T16:13:44.931787Z",
     "shell.execute_reply": "2021-12-19T16:13:44.931189Z",
     "shell.execute_reply.started": "2021-12-19T07:06:48.947756Z"
    },
    "papermill": {
     "duration": 0.041658,
     "end_time": "2021-12-19T16:13:44.931925",
     "exception": false,
     "start_time": "2021-12-19T16:13:44.890267",
     "status": "completed"
    },
    "tags": []
   },
   "outputs": [],
   "source": [
    "dataset_medal_total = medal\n",
    "dataset_medal_only = medal[medal['Medal'] != 'None']\n",
    "dataset_medal_none = medal[medal['Medal'] == 'None']"
   ]
  },
  {
   "cell_type": "code",
   "execution_count": 9,
   "id": "feee0a7c",
   "metadata": {
    "execution": {
     "iopub.execute_input": "2021-12-19T16:13:44.957529Z",
     "iopub.status.busy": "2021-12-19T16:13:44.956848Z",
     "iopub.status.idle": "2021-12-19T16:13:45.859259Z",
     "shell.execute_reply": "2021-12-19T16:13:45.858667Z",
     "shell.execute_reply.started": "2021-12-19T16:12:55.770649Z"
    },
    "papermill": {
     "duration": 0.91717,
     "end_time": "2021-12-19T16:13:45.859425",
     "exception": false,
     "start_time": "2021-12-19T16:13:44.942255",
     "status": "completed"
    },
    "tags": []
   },
   "outputs": [],
   "source": [
    "dataset_medal_only.to_csv('./dataset_medal_only.csv', index=False)\n",
    "dataset_medal_none.to_csv('./dataset_medal_none.csv', index=False)\n",
    "dataset_medal_total.to_csv('./dataset_medal_total.csv', index=False)"
   ]
  },
  {
   "cell_type": "markdown",
   "id": "45bb1364",
   "metadata": {
    "papermill": {
     "duration": 0.010134,
     "end_time": "2021-12-19T16:13:45.880434",
     "exception": false,
     "start_time": "2021-12-19T16:13:45.870300",
     "status": "completed"
    },
    "tags": []
   },
   "source": [
    "This produces the following datasets:\n",
    "\n",
    "- **dataset_medal_total:** all datasets regardless of medals\n",
    "- **dataset_medal_only:** only datesets awarded with medals\n",
    "- **dataset_medal_none:** only datasets without medals"
   ]
  }
 ],
 "metadata": {
  "kernelspec": {
   "display_name": "Python 3",
   "language": "python",
   "name": "python3"
  },
  "language_info": {
   "codemirror_mode": {
    "name": "ipython",
    "version": 3
   },
   "file_extension": ".py",
   "mimetype": "text/x-python",
   "name": "python",
   "nbconvert_exporter": "python",
   "pygments_lexer": "ipython3",
   "version": "3.7.12"
  },
  "papermill": {
   "default_parameters": {},
   "duration": 13.164177,
   "end_time": "2021-12-19T16:13:46.502115",
   "environment_variables": {},
   "exception": null,
   "input_path": "__notebook__.ipynb",
   "output_path": "__notebook__.ipynb",
   "parameters": {},
   "start_time": "2021-12-19T16:13:33.337938",
   "version": "2.3.3"
  }
 },
 "nbformat": 4,
 "nbformat_minor": 5
}
